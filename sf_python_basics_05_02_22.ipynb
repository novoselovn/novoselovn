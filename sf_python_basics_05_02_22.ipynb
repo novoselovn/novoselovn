{
  "nbformat": 4,
  "nbformat_minor": 0,
  "metadata": {
    "colab": {
      "name": "sf_python_basics_05_02_22.ipynb",
      "provenance": [],
      "collapsed_sections": [],
      "include_colab_link": true
    },
    "kernelspec": {
      "display_name": "Python 3",
      "language": "python",
      "name": "python3"
    },
    "language_info": {
      "codemirror_mode": {
        "name": "ipython",
        "version": 3
      },
      "file_extension": ".py",
      "mimetype": "text/x-python",
      "name": "python",
      "nbconvert_exporter": "python",
      "pygments_lexer": "ipython3",
      "version": "3.8.3"
    }
  },
  "cells": [
    {
      "cell_type": "markdown",
      "metadata": {
        "id": "view-in-github",
        "colab_type": "text"
      },
      "source": [
        "<a href=\"https://colab.research.google.com/github/novoselovn/novoselovn/blob/main/sf_python_basics_05_02_22.ipynb\" target=\"_parent\"><img src=\"https://colab.research.google.com/assets/colab-badge.svg\" alt=\"Open In Colab\"/></a>"
      ]
    },
    {
      "cell_type": "markdown",
      "metadata": {
        "id": "yVALumcwE-0Z"
      },
      "source": [
        "\n",
        "# Основы Python"
      ]
    },
    {
      "cell_type": "markdown",
      "metadata": {
        "id": "edQI-m-cCgpV"
      },
      "source": [
        "Булыгин Олег:  \n",
        "* [LinkedIn](linkedin.com/in/obulygin)  \n",
        "* [Telegram](https://t.me/obulygin91)  \n",
        "* [facebook](fb.com/obulygin91)  \n",
        "* [Vk](vk.com/obulygin91)  \n",
        "* email: obulygin91@ya.ru  \n",
        "\n",
        "[Сообщество по Python](https://yandex.ru/q/loves/pythontalk/) на Кью  \n",
        "[Сообщество по Data Science и анализу данных](https://yandex.ru/q/loves/datatalk/) на Кью "
      ]
    },
    {
      "cell_type": "markdown",
      "metadata": {
        "id": "RY8a8l1tFWSo"
      },
      "source": [
        "## План занятия"
      ]
    },
    {
      "cell_type": "markdown",
      "metadata": {
        "id": "r9zAJM26E5S6"
      },
      "source": [
        "\n",
        "План занятия\n",
        "1. PEP\n",
        "2. Вспомним про базовые типы данных и приведение типов\n",
        "3. Числовой тип\n",
        "4. Переменные\n",
        "5. Пользовательский ввод\n",
        "6. Строковый тип\n",
        "\n"
      ]
    },
    {
      "cell_type": "markdown",
      "metadata": {
        "id": "yeFs_dLk5YJW"
      },
      "source": [
        "## PEP\n",
        "\n",
        "PEP (python enhanced proposal — заявки на улучшение языка python)."
      ]
    },
    {
      "cell_type": "markdown",
      "metadata": {
        "id": "hQ_c5hAl5eNt"
      },
      "source": [
        "PEP20 – Zen of Python\n",
        "\n",
        "Python придерживается философии, которую сформулировал Тим Петерс в 19 принципах. Её текст выдаётся интерпретатором Python по команде `import this`."
      ]
    },
    {
      "cell_type": "code",
      "metadata": {
        "id": "ANmgIu_25FK9"
      },
      "source": [
        "import this"
      ],
      "execution_count": null,
      "outputs": []
    },
    {
      "cell_type": "markdown",
      "metadata": {
        "id": "9G-RZWKR5t71"
      },
      "source": [
        "PEP8\n",
        "\n",
        "PEP8 – соглашение о том, как писать код для языка python.\n",
        "Ключевая идея такова: код читается намного больше раз, чем пишется. Собственно, рекомендации о стиле написания кода направлены на то, чтобы улучшить читаемость кода и сделать его согласованным между большим числом проектов. В идеале, весь код будет написан в едином стиле, и любой сможет легко его прочесть.\n",
        "\n",
        "https://pythonworld.ru/osnovy/pep-8-rukovodstvo-po-napisaniyu-koda-na-python.html\n",
        "\n",
        "http://pep8online.com/"
      ]
    },
    {
      "cell_type": "markdown",
      "metadata": {
        "id": "DUkku4BAIwWV"
      },
      "source": [
        "## Первая программа\n"
      ]
    },
    {
      "cell_type": "markdown",
      "metadata": {
        "id": "Yk7mOKZSTC6X"
      },
      "source": [
        "Напишем нашу первую программу - выведем строку на экран\n"
      ]
    },
    {
      "cell_type": "code",
      "metadata": {
        "id": "GYCoObAITC6Z",
        "scrolled": false
      },
      "source": [
        "print('Hello, World') \n",
        "#код состоит из двух частей - функции вывода print() и строки 'Hello world!'"
      ],
      "execution_count": null,
      "outputs": []
    },
    {
      "cell_type": "markdown",
      "metadata": {
        "id": "JK4zZdWo2Q1V"
      },
      "source": [
        "## Основные типы данных в Python"
      ]
    },
    {
      "cell_type": "markdown",
      "metadata": {
        "id": "UxFIXyQH2Q1W"
      },
      "source": [
        "Тип данных можно представить себе как некоторую родословную, у каждой из которых есть своя уникальная фамилия и свои уникальные возможности. Типы данных могут быть как встроеные в Python, так и созданные самим программистом."
      ]
    },
    {
      "cell_type": "code",
      "metadata": {
        "scrolled": true,
        "id": "kW1BMnXZ2Q1Y"
      },
      "source": [
        "print(type(5)) #целые числа\n",
        "print(type(3.612)) #числа с плавающей точкой\n",
        "print(type(True)) #булевые значения (логические числа)\n",
        "print(type(False))\n",
        "\n",
        "print(type('Какой это тип данных?'))"
      ],
      "execution_count": null,
      "outputs": []
    },
    {
      "cell_type": "markdown",
      "metadata": {
        "id": "f77yfjFQMMzl"
      },
      "source": [
        "## Приведение типов"
      ]
    },
    {
      "cell_type": "markdown",
      "metadata": {
        "id": "lFAd_H2v2Q1b"
      },
      "source": [
        "Для того чтобы явно приводить типы можно воспользоваться соответствующими операторами. Такая операция называется **явное приведение типов**"
      ]
    },
    {
      "cell_type": "code",
      "metadata": {
        "id": "31iYqk782Q1c"
      },
      "source": [
        "int(5.12)\n",
        "# для вывода в ноутбуках не обязательно использовать print"
      ],
      "execution_count": null,
      "outputs": []
    },
    {
      "cell_type": "code",
      "metadata": {
        "id": "hpVe3FoL2Q1d"
      },
      "source": [
        "float(14)"
      ],
      "execution_count": null,
      "outputs": []
    },
    {
      "cell_type": "code",
      "metadata": {
        "id": "oI6y1FpQ2Q1d"
      },
      "source": [
        "bool(145)"
      ],
      "execution_count": null,
      "outputs": []
    },
    {
      "cell_type": "code",
      "metadata": {
        "id": "NHCqNOwBMuZE"
      },
      "source": [
        "str(111)"
      ],
      "execution_count": null,
      "outputs": []
    },
    {
      "cell_type": "code",
      "metadata": {
        "id": "Q6B4rMa6MwUK"
      },
      "source": [
        "int('111')"
      ],
      "execution_count": null,
      "outputs": []
    },
    {
      "cell_type": "code",
      "metadata": {
        "id": "dZUyAbDtMx8v"
      },
      "source": [
        "float('111.454576')"
      ],
      "execution_count": null,
      "outputs": []
    },
    {
      "cell_type": "markdown",
      "metadata": {
        "id": "4qEZrknO2Q1e"
      },
      "source": [
        "Однако возможна такая ситация, когда язык сам за ваш решает, какой тип данных получится в результате выполнения операции. Такая операция называется **неявное приведение типов**. Частным случаям неявного приведения типов является деление:"
      ]
    },
    {
      "cell_type": "code",
      "metadata": {
        "id": "voV5e2KZrvOV"
      },
      "source": [
        "print(80 / 2) "
      ],
      "execution_count": null,
      "outputs": []
    },
    {
      "cell_type": "markdown",
      "metadata": {
        "id": "eZIGUFtmly9r"
      },
      "source": [
        "Или арифметика с логическими значениями:"
      ]
    },
    {
      "cell_type": "code",
      "metadata": {
        "id": "criunOj0lvkU"
      },
      "source": [
        "print(True + 1)"
      ],
      "execution_count": null,
      "outputs": []
    },
    {
      "cell_type": "markdown",
      "metadata": {
        "id": "qRMN22wvK5zR"
      },
      "source": [
        "## Работа с числами"
      ]
    },
    {
      "cell_type": "markdown",
      "metadata": {
        "id": "BCee-aGlqPHC"
      },
      "source": [
        "<table class=\"src\" border=\"1\">\n",
        "<tbody>\n",
        "<tr style=\"background-color: #2b5b84;\"><th style=\"width: 100%;\"><span style=\"color: #ffff00;\">Оператор</span></th><th style=\"width: 100%;\"><span style=\"color: #ffff00;\">Описание</span></th></tr>\n",
        "\n",
        "<tr>\n",
        "<td style=\"background-color: #2b5b84; text-align: center;\"><strong><span style=\"color: #ffff00;\">+</span></strong></td>\n",
        "<td>Сложение — cуммирует значения слева и справа от оператора</td>\n",
        "</tr>\n",
        "\n",
        "<tr>\n",
        "<td style=\"background-color: #2b5b84; text-align: center;\"><strong><span style=\"color: #ffff00;\">-</span></strong></td>\n",
        "<td>Вычитание — вычитает правый операнд из левого</td>\n",
        "</tr>\n",
        "\n",
        "<tr>\n",
        "<td style=\"background-color: #2b5b84; text-align: center;\"><strong><span style=\"color: #ffff00;\">*</span></strong></td>\n",
        "<td>Умножение — перемножает операнды</td>\n",
        "</tr>\n",
        "\n",
        "<tr>\n",
        "<td style=\"background-color: #2b5b84; text-align: center;\"><strong><span style=\"color: #ffff00;\">/</span></strong></td>\n",
        "<td>Деление — делит левый операнд на правый</td>\n",
        "</tr>\n",
        "\n",
        "<tr>\n",
        "<td style=\"background-color: #2b5b84; text-align: center;\"><strong><span style=\"color: #ffff00;\">**</span></strong></td>\n",
        "<td>Возведение в степень — возводит левый операнд в степень правого</td>\n",
        "\n",
        "</tr>\n",
        "\n",
        "<tr>\n",
        "<td style=\"background-color: #2b5b84; text-align: center;\"><strong><span style=\"color: #ffff00;\">%</span></strong></td>\n",
        "<td> Взятие остатка от деления — делит левый операнд на правый и возвращает остаток.</td>\n",
        "\n",
        "</tr>\n",
        "<tr>\n",
        "\n",
        "<td style=\"background-color: #2b5b84; text-align: center;\"><strong><span style=\"color: #ffff00;\">//</span></strong></td>\n",
        "<td>Целочисленное деление — деление в котором возвращается только целая часть результата. Часть после запятой отбрасывается.</td>\n",
        "</tr>\n",
        "\n",
        "</tbody>\n",
        "</table>"
      ]
    },
    {
      "cell_type": "markdown",
      "metadata": {
        "id": "5Df6mheS2Q1f"
      },
      "source": [
        "Запомните, что умножение и деление всегда выполняются прежде, чем сложение и вычитание, если не менять порядок вычислений с помощью скобок."
      ]
    },
    {
      "cell_type": "markdown",
      "metadata": {
        "id": "KQae8PMT2Q1Z"
      },
      "source": [
        "Воспользуемся языком как калькулятором"
      ]
    },
    {
      "cell_type": "code",
      "metadata": {
        "id": "OATB_lbR2Q1j"
      },
      "source": [
        "print(4 + 4) # суммирует значения слева и справа от оператора\n",
        "print(4 - 1) # вычитание - Вычитает правый операнд из левого\n",
        "print(4 * 2) # умножение - Перемножает операнды\n",
        "print(4 / 2) # деление - Делит левый операнд на правый\n",
        "print(5 % 2) # взятие остатка от деления - Делит левый операнд на правый и возвращает остаток.\n",
        "print(15 // 2) # Целочисленное деление - Деление в котором возвращается только целая часть результата. Часть после запятой отбрасывается.\n",
        "print(21 ** 2) # возведение в степень"
      ],
      "execution_count": null,
      "outputs": []
    },
    {
      "cell_type": "code",
      "metadata": {
        "id": "ve8uQxkipQ0_"
      },
      "source": [
        "print(5 + 30 * 20)\n",
        "print((5 + 30) * 20 ) # нужно помнить про скобки, чтобы контроллировать порядок действий"
      ],
      "execution_count": null,
      "outputs": []
    },
    {
      "cell_type": "markdown",
      "source": [
        "Целочисленное деление и взятие остатка от деления отрицательных чисел?"
      ],
      "metadata": {
        "id": "a2tBTg512Ucf"
      }
    },
    {
      "cell_type": "code",
      "source": [
        "print(-7 // 3) \n",
        "\n",
        "print(7 // -3) # почему результат не 3?\n",
        "\n",
        "# Объяснение: остаток никогда не будет взят за отрицательный"
      ],
      "metadata": {
        "id": "-4UZT9JA2Z9S",
        "colab": {
          "base_uri": "https://localhost:8080/",
          "height": 0
        },
        "outputId": "fcdee429-36f2-45e4-c054-4837bf099412"
      },
      "execution_count": 1,
      "outputs": [
        {
          "output_type": "stream",
          "name": "stdout",
          "text": [
            "-3\n",
            "-3\n"
          ]
        }
      ]
    },
    {
      "cell_type": "code",
      "source": [
        "print(8 % -3) \n",
        "\n",
        "print(-9 % 4)\n",
        "\n",
        "print(-12 % 5)\n",
        "\n",
        "# Объяснение: знак результата всегда будет равен знаку второго операнда"
      ],
      "metadata": {
        "id": "bc44JFfA09zE"
      },
      "execution_count": null,
      "outputs": []
    },
    {
      "cell_type": "markdown",
      "source": [
        "Объяснение: остаток никогда не бывает отрицательным"
      ],
      "metadata": {
        "id": "rCSqr97p2jK0"
      }
    },
    {
      "cell_type": "markdown",
      "metadata": {
        "id": "nZrfxsi-Q_-b"
      },
      "source": [
        "Операции сравнения"
      ]
    },
    {
      "cell_type": "code",
      "metadata": {
        "id": "Ev5oTo5fQ_h5"
      },
      "source": [
        "print(4 == 5) # не путать с =. проверяет равны ли оба операнда. Если да, то проверка возвращает True\n",
        "print(4 != 5) # проверяет не равны ли оба операнда. Если не равны, то проверка возвращает True.\n",
        "print(4 > 5) # проверяет больше ли значение левого операнда, чем значение правого. Если да, то проверка возвращает True.\n",
        "print(4 < 5) # проверяет меньше ли значение левого операнда, чем значение правого. Если да, то проверка возвращает True.\n",
        "print(4 >= 5) # проверяет больше или равно значение левого операнда, чем значение правого. Если да, то проверка возвращает True.\n",
        "print(4 <= 6) # проверяет меньше или равно значение левого операнда, чем значение правого. Если да, то проверка возвращает True."
      ],
      "execution_count": null,
      "outputs": []
    },
    {
      "cell_type": "markdown",
      "metadata": {
        "id": "dDLA0Ln3cHbv"
      },
      "source": [
        "Можем взять модуль у числа"
      ]
    },
    {
      "cell_type": "code",
      "metadata": {
        "id": "EuU0ahm0cKze"
      },
      "source": [
        "print(abs(-32))"
      ],
      "execution_count": null,
      "outputs": []
    },
    {
      "cell_type": "markdown",
      "source": [
        "Проблема точности округления в Python"
      ],
      "metadata": {
        "id": "kw_ODx9eycPy"
      }
    },
    {
      "cell_type": "code",
      "source": [
        "print(0.15 + 0.15 == 0.3)"
      ],
      "metadata": {
        "id": "G4JpMV5DzJGa"
      },
      "execution_count": null,
      "outputs": []
    },
    {
      "cell_type": "code",
      "source": [
        "print(0.1 + 0.15 + 0.05 == 0.1 + 0.1 + 0.1)"
      ],
      "metadata": {
        "id": "sfkv1T6QzRar"
      },
      "execution_count": null,
      "outputs": []
    },
    {
      "cell_type": "code",
      "source": [
        "print(0.1 + 0.15 + 0.05)"
      ],
      "metadata": {
        "id": "O2SwVCkfzUOP"
      },
      "execution_count": null,
      "outputs": []
    },
    {
      "cell_type": "code",
      "source": [
        "print(0.1 + 0.1 + 0.1)"
      ],
      "metadata": {
        "id": "BZb8oN-JzW8P"
      },
      "execution_count": null,
      "outputs": []
    },
    {
      "cell_type": "markdown",
      "source": [
        "Стои избегать прямого сравнения float, если вам важна точность операций. \n",
        "\n",
        "Для исправления этой проблемы естсьт отдельные типы данных, [изучите самостоятельно](https://docs-python.ru/tutorial/operatsii-chislami-python/problemy-chisel-plavajuschej-zapjatoj/)"
      ],
      "metadata": {
        "id": "LwLAzkHrzYMn"
      }
    },
    {
      "cell_type": "markdown",
      "metadata": {
        "id": "mIblPFvCon-p"
      },
      "source": [
        "## Переменные\n",
        "\n",
        "\n"
      ]
    },
    {
      "cell_type": "markdown",
      "metadata": {
        "id": "zK7EiLe22Q1k"
      },
      "source": [
        "В программировании слово переменная обозначает именованное место для хранения данных, например чисел, текста, списков с числами или символами и так далее. Также переменную можно рассматривать как ярлык, которым помечены некие данные или контейнер, в котором хранится информация"
      ]
    },
    {
      "cell_type": "markdown",
      "metadata": {
        "id": "K-2IHl1yvTye"
      },
      "source": [
        "\n",
        "\n",
        "Для создания корректных имен перемен­ных надо следовать всего нескольким правилам; о некорректном имени Python вам сообщит, выведя ошибку\n",
        "\n",
        "Есть несколько правил при определении переменных:\n",
        "\n",
        "- имена переменных не должны повторять уже встроенные в Python имена, например, `print`, `str`, `in` и т.д.;\n",
        "- имена переменных могут содержать только буквы, цифры и нижнее подчёркивание; \n",
        "- имена переменных не должны начинаться с цифры;\n",
        "- очень желательно, чтобы имена переменных выражали суть переменной и не были слишком длинными.\n",
        "\n",
        "Если компьютер принял переменную это не значит, что это имя хорошее! \n",
        "Переменная с именем **aklkjkll112312** будет понятна компьютеру, но не будет понятна человеку. Поэтом при создании переменных вы должны ориентироваться на своего читателя. Порой вы будете единственным читателем вашего кода, но поверьте(!), вернувшись через месяц для того, чтобы немного изменить свою программу, вы ужаснетесь, насколько там все непонятно! Поэтому, если вы с любовью относитесь к себе и своим коллегам, не пренебрегайте правилами и договоренностями. Они значительно упрощают вашу жизнь. "
      ]
    },
    {
      "cell_type": "code",
      "metadata": {
        "id": "Oclns_uDTC6y"
      },
      "source": [
        "a = 458\n",
        "print(a)"
      ],
      "execution_count": null,
      "outputs": []
    },
    {
      "cell_type": "code",
      "metadata": {
        "id": "hzzDP-UZNFr9"
      },
      "source": [
        "a = 10 + 20\n",
        "b = a * 30\n",
        "c = a / b\n",
        "print('Ответ: ', c)"
      ],
      "execution_count": null,
      "outputs": []
    },
    {
      "cell_type": "code",
      "metadata": {
        "id": "5ag-FBA_NITt"
      },
      "source": [
        "# что увидим на экране?\n",
        "print(x)\n",
        "\n",
        "x = 10"
      ],
      "execution_count": null,
      "outputs": []
    },
    {
      "cell_type": "markdown",
      "metadata": {
        "id": "40_f2eTINlZg"
      },
      "source": [
        "**Практика**. Переведем байты в мегабайты\n",
        "\n"
      ]
    },
    {
      "cell_type": "code",
      "metadata": {
        "id": "khcyHT9GNmMr"
      },
      "source": [
        "bytes_ = 10000"
      ],
      "execution_count": null,
      "outputs": []
    },
    {
      "cell_type": "code",
      "metadata": {
        "id": "kdEwXnn8NoAo"
      },
      "source": [
        "# print(bytes_ / 2 ** 20)"
      ],
      "execution_count": null,
      "outputs": []
    },
    {
      "cell_type": "markdown",
      "metadata": {
        "id": "I3onei2ZO_gV"
      },
      "source": [
        "Сокращенная запись операций присваивания"
      ]
    },
    {
      "cell_type": "code",
      "metadata": {
        "id": "XiiHam50PCD3"
      },
      "source": [
        "x = 2"
      ],
      "execution_count": null,
      "outputs": []
    },
    {
      "cell_type": "code",
      "metadata": {
        "id": "Y2zxrvl1O-kx"
      },
      "source": [
        "# x = x + 1\n",
        "x += 1\n",
        "print(x)\n",
        "\n",
        "# x = x - 1\n",
        "x -= 1\n",
        "print(x)\n",
        "\n",
        "# x = x * 2\n",
        "x *= 2\n",
        "print(x)\n",
        "\n",
        "# x = x / 2\n",
        "x /= 2\n",
        "print(x)"
      ],
      "execution_count": null,
      "outputs": []
    },
    {
      "cell_type": "markdown",
      "metadata": {
        "id": "lU7i_wOgRSHm"
      },
      "source": [
        "Множественное присваивание:"
      ]
    },
    {
      "cell_type": "code",
      "metadata": {
        "id": "P6bCFVfmRWGy"
      },
      "source": [
        "name, pro, age = 'John', 'Data Scientist', 100000\n",
        "print(name)\n",
        "print(pro)\n",
        "print(age)"
      ],
      "execution_count": null,
      "outputs": []
    },
    {
      "cell_type": "markdown",
      "metadata": {
        "id": "erwQla1f2Q1s"
      },
      "source": [
        "Благодаря множественному присваиванию в Python легко решается задача замены переменных местами.\n",
        "\n",
        "В других языках эта задача решается через третью переменную."
      ]
    },
    {
      "cell_type": "code",
      "metadata": {
        "id": "nNGT-dkt2Q1s"
      },
      "source": [
        "a = 14\n",
        "b = 'string'\n",
        "c = a\n",
        "a = b\n",
        "b = c\n",
        "print(a, b)"
      ],
      "execution_count": null,
      "outputs": []
    },
    {
      "cell_type": "markdown",
      "metadata": {
        "id": "Nva22H5j2Q1t"
      },
      "source": [
        "А в Python можно так:"
      ]
    },
    {
      "cell_type": "code",
      "metadata": {
        "id": "qMqqa8I82Q1t"
      },
      "source": [
        "a, b = b, a\n",
        "print(a, b)"
      ],
      "execution_count": null,
      "outputs": []
    },
    {
      "cell_type": "markdown",
      "metadata": {
        "id": "2iY1yLYcbLAp"
      },
      "source": [
        "**Практика**. Рост девушки 170 см, а высота каблуков — 19 см. Определите рост девушки на каблуках в _метрах_ и выведите информацию в виде: `Рост в метрах: *** `"
      ]
    },
    {
      "cell_type": "code",
      "metadata": {
        "id": "6YyjAgt6bAKm",
        "colab": {
          "base_uri": "https://localhost:8080/"
        },
        "outputId": "625818f8-749e-4d75-d7a6-8d08f7efbc25"
      },
      "source": [
        "heels_height_cm = 19\n",
        "height_cm = 170\n",
        "\n",
        "print('Рост в метрах:', (heels_height_cm + height_cm) / 100)"
      ],
      "execution_count": 5,
      "outputs": [
        {
          "output_type": "stream",
          "name": "stdout",
          "text": [
            "Рост в метрах: 1.89\n"
          ]
        }
      ]
    },
    {
      "cell_type": "code",
      "metadata": {
        "id": "Mipl0yQkbJMg"
      },
      "source": [
        ""
      ],
      "execution_count": null,
      "outputs": []
    },
    {
      "cell_type": "markdown",
      "metadata": {
        "id": "hGrFASpBcs_b"
      },
      "source": [
        "**Практика**.\n",
        "Олег, Екатерина и Петр после Хэллоуина решили поделить собранные каждым конфеты поровну. Чтобы не ссорится они решили выкинуть все конфеты, которые останутся после этого. К примеру, если у них 62 конфеты они поделят 60 и выкинут 2.  \n",
        "Напишите код, который будет вычислять, сколько конфет им нужно выкинуть после дележки."
      ]
    },
    {
      "cell_type": "code",
      "metadata": {
        "id": "kM4NOerocwEI",
        "colab": {
          "base_uri": "https://localhost:8080/"
        },
        "outputId": "d27115f2-d29b-4e00-dad7-e49f21e7b8b6"
      },
      "source": [
        "oleg_candies = 117\n",
        "kate_candies = 131\n",
        "peter_candies = 107\n",
        "\n",
        "throw_away = (117 + 131 + 107) % 3\n",
        "print (throw_away)"
      ],
      "execution_count": 6,
      "outputs": [
        {
          "output_type": "stream",
          "name": "stdout",
          "text": [
            "1\n"
          ]
        }
      ]
    },
    {
      "cell_type": "code",
      "metadata": {
        "id": "B7oXfmvlnvm0"
      },
      "source": [
        ""
      ],
      "execution_count": null,
      "outputs": []
    },
    {
      "cell_type": "markdown",
      "metadata": {
        "id": "BAPe2SpNTwCP"
      },
      "source": [
        "## Пользовательский ввод"
      ]
    },
    {
      "cell_type": "markdown",
      "source": [
        "Функция запроса пользовательского ввода всегда принимает на вход строковой тип (даже если пользователь введет только числа)."
      ],
      "metadata": {
        "id": "dyj57U0n1INY"
      }
    },
    {
      "cell_type": "code",
      "source": [
        "some_int = input('Введите число')\n",
        "print(type(some_int))"
      ],
      "metadata": {
        "id": "ETbcj21L1IzV"
      },
      "execution_count": null,
      "outputs": []
    },
    {
      "cell_type": "markdown",
      "metadata": {
        "id": "uV7JNF5yx4a6"
      },
      "source": [
        "Чтобы превратить строку в число, мы можем использовать функции int() или float, в которые мы передадим строку, а на выходе получим число."
      ]
    },
    {
      "cell_type": "code",
      "metadata": {
        "id": "BhiwUbxZykgj",
        "scrolled": true
      },
      "source": [
        "b = int(input('Введите число: ')) #input — функция для ввода\n",
        "print(b * 5)"
      ],
      "execution_count": null,
      "outputs": []
    },
    {
      "cell_type": "markdown",
      "metadata": {
        "id": "p_wzWJRwW2gK"
      },
      "source": [
        "Напишем приложение, которое учитывает, какой процент от заработной платы уходит на ипотеку и ежемесячные расходы.\n",
        "\n",
        "Для этого пользователю предлагается ввести следующие данные:\n",
        "\n",
        "- заработную плату в месяц;  \n",
        "- какой процент (%) от заработной платы уходит на ипотеку;  \n",
        "- какой процент (%) от заработной платы уходит \"на жизнь\".\n",
        "\n",
        "Программа подсчитывает и выводит, сколько денег тратит пользователь на ипотеку и сколько он накопит за год (остаток от заработанной платы).\n",
        "\n",
        "Пример:\n",
        "```\n",
        "Введите заработную плату в месяц: 100000\n",
        "Введите, какой процент(%) уходит на ипотеку: 30\n",
        "Введите, какой процент(%) уходит на жизнь: 50\n",
        "\n",
        "Вывод:\n",
        "На ипотеку было потрачено: 360000 рублей\n",
        "Было накоплено: 240000 рублей\n",
        "```"
      ]
    },
    {
      "cell_type": "code",
      "metadata": {
        "id": "3rPHdgJxW40B"
      },
      "source": [
        "salary = int(input(\"Введите заработную плату в месяц: \"))\n",
        "mortgage = int(input(\"Введите, какой процент(%) уходит на ипотеку: \"))\n",
        "expenses = int(input(\"Введите, какой процент(%) уходит на жизнь: \"))\n",
        "print(\"На ипотеку было потрачено:\", salary * mortgage / 100 * 12, \"рублей\")\n",
        "print(\"Было накоплено:\", salary * 12 - ((salary * mortgage / 100 * 12) + (salary * expenses / 100 * 12)), \"рублей\")"
      ],
      "execution_count": null,
      "outputs": []
    },
    {
      "cell_type": "markdown",
      "metadata": {
        "id": "cykTRuaVUxez"
      },
      "source": [
        "**Практика**. Программа запрашивает у пользователя длину стороны квадрата и выводит его периметр и площадь. Сразу после этого пользователю предлагается ввести длину и ширину прямоугольника, для которого рассчитывается периметр и площадь. Обратите внимание, что программа должна работать корректно при любых введённых значениях длины и ширины фигуры.\n",
        "\n",
        "Пример:\n",
        "```\n",
        "Введите длину стороны квадрата: 3\n",
        "\n",
        "Вывод:\n",
        "Периметр: 12\n",
        "Площадь: 9\n",
        "\n",
        "Введите длину прямоугольника: 3\n",
        "Введите ширину прямоугольника: 4\n",
        "\n",
        "Вывод:\n",
        "Периметр: 14\n",
        "Площадь: 12\n",
        "```\n"
      ]
    },
    {
      "cell_type": "code",
      "metadata": {
        "id": "0hiQFfBUU2ky",
        "colab": {
          "base_uri": "https://localhost:8080/",
          "height": 236
        },
        "outputId": "88812fbd-cd08-4f6e-90bf-412c06823be2"
      },
      "source": [
        "lenght = int(input(\"Введите длину квадрата: \"))\n",
        "wight= int(input(\"Введите ширину квадрата: \"))\n",
        "print(\"Вывод:\", \"Периметр:\" (lenght*4) ,\"Площадь:\" (lenght*wight) , sep='\\n')"
      ],
      "execution_count": 12,
      "outputs": [
        {
          "name": "stdout",
          "output_type": "stream",
          "text": [
            "Введите длину квадрата: 3\n",
            "Введите ширину квадрата: 4\n"
          ]
        },
        {
          "output_type": "error",
          "ename": "TypeError",
          "evalue": "ignored",
          "traceback": [
            "\u001b[0;31m---------------------------------------------------------------------------\u001b[0m",
            "\u001b[0;31mTypeError\u001b[0m                                 Traceback (most recent call last)",
            "\u001b[0;32m<ipython-input-12-dd240cd0d8ce>\u001b[0m in \u001b[0;36m<module>\u001b[0;34m()\u001b[0m\n\u001b[1;32m      1\u001b[0m \u001b[0mlenght\u001b[0m \u001b[0;34m=\u001b[0m \u001b[0mint\u001b[0m\u001b[0;34m(\u001b[0m\u001b[0minput\u001b[0m\u001b[0;34m(\u001b[0m\u001b[0;34m\"Введите длину квадрата: \"\u001b[0m\u001b[0;34m)\u001b[0m\u001b[0;34m)\u001b[0m\u001b[0;34m\u001b[0m\u001b[0;34m\u001b[0m\u001b[0m\n\u001b[1;32m      2\u001b[0m \u001b[0mwight\u001b[0m\u001b[0;34m=\u001b[0m \u001b[0mint\u001b[0m\u001b[0;34m(\u001b[0m\u001b[0minput\u001b[0m\u001b[0;34m(\u001b[0m\u001b[0;34m\"Введите ширину квадрата: \"\u001b[0m\u001b[0;34m)\u001b[0m\u001b[0;34m)\u001b[0m\u001b[0;34m\u001b[0m\u001b[0;34m\u001b[0m\u001b[0m\n\u001b[0;32m----> 3\u001b[0;31m \u001b[0mprint\u001b[0m\u001b[0;34m(\u001b[0m\u001b[0;34m\"Вывод:\"\u001b[0m\u001b[0;34m,\u001b[0m \u001b[0;34m\"Периметр:\"\u001b[0m \u001b[0;34m(\u001b[0m\u001b[0mlenght\u001b[0m\u001b[0;34m*\u001b[0m\u001b[0;36m4\u001b[0m\u001b[0;34m)\u001b[0m \u001b[0;34m,\u001b[0m\u001b[0;34m\"Площадь:\"\u001b[0m \u001b[0;34m(\u001b[0m\u001b[0mlenght\u001b[0m\u001b[0;34m*\u001b[0m\u001b[0mwight\u001b[0m\u001b[0;34m)\u001b[0m \u001b[0;34m,\u001b[0m \u001b[0msep\u001b[0m\u001b[0;34m=\u001b[0m\u001b[0;34m'\\n'\u001b[0m\u001b[0;34m)\u001b[0m\u001b[0;34m\u001b[0m\u001b[0;34m\u001b[0m\u001b[0m\n\u001b[0m",
            "\u001b[0;31mTypeError\u001b[0m: 'str' object is not callable"
          ]
        }
      ]
    },
    {
      "cell_type": "markdown",
      "metadata": {
        "id": "6rL6p6gdCSIa"
      },
      "source": [
        "## Работа со строками\n",
        "\n",
        "Строки всегда создаются одним из трех способов. Вы можете использовать одинарные, двойные и тройные кавычки."
      ]
    },
    {
      "cell_type": "code",
      "metadata": {
        "id": "O0XDqDaKwPDh"
      },
      "source": [
        "my_string = 'Hello World!'\n",
        "my_string_2 = \"Hello World\"\n",
        "print(type(my_string))"
      ],
      "execution_count": null,
      "outputs": []
    },
    {
      "cell_type": "markdown",
      "source": [
        "Это нужно для того, чтобы внутри строк использовать кавычки, как элементы текста"
      ],
      "metadata": {
        "id": "YCYPCtfXvrWT"
      }
    },
    {
      "cell_type": "code",
      "source": [
        "my_string = 'He said: \"Hello World!\"'\n",
        "print(my_string)"
      ],
      "metadata": {
        "id": "ulPXlclUvvkI"
      },
      "execution_count": null,
      "outputs": []
    },
    {
      "cell_type": "code",
      "source": [
        "# вот так, конечно, не получится\n",
        "my_string = 'He said: 'Hello World!''\n",
        "print(my_string)"
      ],
      "metadata": {
        "id": "Q0UfOrfgv2U7"
      },
      "execution_count": null,
      "outputs": []
    },
    {
      "cell_type": "markdown",
      "metadata": {
        "id": "3EZEhtV_wPDi"
      },
      "source": [
        "Однако если вы попытаетесь многострочный текст, то так не получится"
      ]
    },
    {
      "cell_type": "code",
      "metadata": {
        "id": "Fd9wjFcDwPDi"
      },
      "source": [
        "my_string = 'Hello \n",
        "World!'"
      ],
      "execution_count": null,
      "outputs": []
    },
    {
      "cell_type": "markdown",
      "metadata": {
        "id": "WKjvYC9kwPDj"
      },
      "source": [
        "Можем использовать [экранированные последовательности](https://pythonworld.ru/tipy-dannyx-v-python/stroki-literaly-strok.html)"
      ]
    },
    {
      "cell_type": "code",
      "metadata": {
        "id": "o4CbnRq6wPDj"
      },
      "source": [
        "my_string = 'Hello\\nWorld!'\n",
        "print(my_string)"
      ],
      "execution_count": null,
      "outputs": []
    },
    {
      "cell_type": "markdown",
      "metadata": {
        "id": "I0-AKpEAwPDk"
      },
      "source": [
        "Можно использовать многострочные строки при помощи тройных кавычек. Кроме того, они позволяю внутри себя без проблем использовать кавычки обоих типов"
      ]
    },
    {
      "cell_type": "code",
      "metadata": {
        "id": "OIzUuuIIwPDk"
      },
      "source": [
        "multiline_string = \"\"\"В такой \"строке\" мы можем\n",
        "'использовать' все.\"\"\"\n",
        "print(multiline_string)"
      ],
      "execution_count": null,
      "outputs": []
    },
    {
      "cell_type": "markdown",
      "metadata": {
        "id": "nu8mo4fNwPDl"
      },
      "source": [
        "Действия над строками"
      ]
    },
    {
      "cell_type": "code",
      "metadata": {
        "id": "S1EYB8K3JkQK"
      },
      "source": [
        "# сравнение строк\n",
        "\n",
        "print('a' > 'b')\n",
        "print('a' > 'B')\n",
        "print('abc' > 'aba')"
      ],
      "execution_count": null,
      "outputs": []
    },
    {
      "cell_type": "code",
      "metadata": {
        "id": "W8zW0nuRwPDl"
      },
      "source": [
        "# конкатенация (сложение строк)\n",
        "s1 = 'spam '\n",
        "s2 = 'eggs'\n",
        "print(s1 + s2)"
      ],
      "execution_count": null,
      "outputs": []
    },
    {
      "cell_type": "code",
      "metadata": {
        "id": "eqFMYWzDwPDm"
      },
      "source": [
        "# умножение строки на число\n",
        "print('**' * 5)"
      ],
      "execution_count": null,
      "outputs": []
    },
    {
      "cell_type": "markdown",
      "metadata": {
        "id": "KdE-KQrXwPDm"
      },
      "source": [
        "Полный перечень строковых методом можно посмотреть [здесь](https://pythonist.ru/metody-strok-v-python/).\n",
        "\n",
        "Строки в Python неизменяемым типом данных, поэтому все методы строк всегда будут возвращать новую строку, а не менять исходную."
      ]
    },
    {
      "cell_type": "code",
      "metadata": {
        "id": "N1hLsiViwPDl"
      },
      "source": [
        "help(str)"
      ],
      "execution_count": null,
      "outputs": []
    },
    {
      "cell_type": "code",
      "metadata": {
        "id": "e48oemonwPDm"
      },
      "source": [
        "my_string = 'HELLO world!'"
      ],
      "execution_count": null,
      "outputs": []
    },
    {
      "cell_type": "code",
      "metadata": {
        "id": "JK7eyl6-wPDn"
      },
      "source": [
        "# приведение к верхнему регистру\n",
        "print(my_string.upper())\n",
        "new_string = my_string.upper()\n",
        "print(new_string)\n",
        "\n",
        "print(my_string) "
      ],
      "execution_count": null,
      "outputs": []
    },
    {
      "cell_type": "code",
      "metadata": {
        "id": "aPk5DS8ywPDn"
      },
      "source": [
        "# приведение к нижнему регистру\n",
        "print(my_string.lower())"
      ],
      "execution_count": null,
      "outputs": []
    },
    {
      "cell_type": "code",
      "metadata": {
        "id": "HWPO5VNowPDn"
      },
      "source": [
        "# первая буква строки в верхнем регистре\n",
        "print(my_string.capitalize())"
      ],
      "execution_count": null,
      "outputs": []
    },
    {
      "cell_type": "code",
      "metadata": {
        "id": "W9ni9Go_wPDn"
      },
      "source": [
        "# первая буква каждого слова в верхнем регистре\n",
        "print(my_string.title())"
      ],
      "execution_count": null,
      "outputs": []
    },
    {
      "cell_type": "code",
      "metadata": {
        "id": "aN2kLv_lwPDo"
      },
      "source": [
        "# заменяем подстроку в строке\n",
        "print(my_string.replace('HELLO', 'Goodbye'))"
      ],
      "execution_count": null,
      "outputs": []
    },
    {
      "cell_type": "code",
      "metadata": {
        "id": "LtBj4EhJwPDo"
      },
      "source": [
        "# метод find() ищет подстроку в строке и возвращает индекс первого элемента найденной подстроки. \n",
        "# если подстрока не найдена, то возвращает -1.\n",
        "s = 'red blue orange white blue'\n",
        "print(s.find('b'))\n",
        "print(s.find('blue'))"
      ],
      "execution_count": null,
      "outputs": []
    },
    {
      "cell_type": "code",
      "metadata": {
        "id": "1JDfygL_wPDq"
      },
      "source": [
        "# определяем длину строки\n",
        "print(len(my_string))"
      ],
      "execution_count": null,
      "outputs": []
    },
    {
      "cell_type": "code",
      "metadata": {
        "id": "Dqble_JqwPDq"
      },
      "source": [
        "# проверка вхождение подстроки в строку\n",
        "my_string = 'Hello World'\n",
        "target_string = 'World'\n",
        "print(target_string in my_string)\n",
        "print(target_string not in my_string)"
      ],
      "execution_count": null,
      "outputs": []
    },
    {
      "cell_type": "markdown",
      "metadata": {
        "id": "HDq-QZ_UwPDr"
      },
      "source": [
        "**[f-строки](https://python-scripts.com/f-strings)**\n",
        "\n",
        "Добавляя префикс f к строке можно встраивать в нее произвольные выражения при помощи фигурных скобок – { }."
      ]
    },
    {
      "cell_type": "code",
      "metadata": {
        "id": "vWAjI25SwPDr"
      },
      "source": [
        "name = 'oleg'\n",
        "lang = 'python'\n",
        "my_str = f'Hello, my name is {name.capitalize()}, i know {lang} a bit'\n",
        "print(my_str)\n",
        "# print(type(my_str))"
      ],
      "execution_count": null,
      "outputs": []
    },
    {
      "cell_type": "markdown",
      "metadata": {
        "id": "kohJ7Byxirex"
      },
      "source": [
        "Можно разделять периоды чисел любым разделителем"
      ]
    },
    {
      "cell_type": "code",
      "metadata": {
        "id": "nb0QYsTZiiGe"
      },
      "source": [
        "year_salary = 10000000\n",
        "\n",
        "print(f'Годовая зарплата: ${year_salary :,}')"
      ],
      "execution_count": null,
      "outputs": []
    },
    {
      "cell_type": "markdown",
      "metadata": {
        "id": "vNJl0kXqh8G9"
      },
      "source": [
        "Можно представлять числа с округлением до нужного количества знаков"
      ]
    },
    {
      "cell_type": "code",
      "metadata": {
        "id": "B0d8X-PmwPDs"
      },
      "source": [
        "pi_value = 3.141592653589793\n",
        "\n",
        "print(f'Число Пи: {pi_value :.2f}')"
      ],
      "execution_count": null,
      "outputs": []
    },
    {
      "cell_type": "markdown",
      "metadata": {
        "id": "f4v3QryyiWCA"
      },
      "source": [
        "И много чего [еще](https://saralgyaan.com/posts/f-string-in-python-usage-guide/)"
      ]
    },
    {
      "cell_type": "markdown",
      "metadata": {
        "id": "gAgqIV6fdb-i"
      },
      "source": [
        "**Практика**\n",
        "\n",
        "Выведите результат в виде:\n",
        "```\n",
        "Pluto weighs about 1.3e+22 kilograms (0.218% of Earth's mass). It is home to 52,910,390 Plutonians.\n",
        "```"
      ]
    },
    {
      "cell_type": "code",
      "metadata": {
        "id": "aVeAnbGqdbaH",
        "colab": {
          "base_uri": "https://localhost:8080/"
        },
        "outputId": "7f1fdeb8-d9da-4de0-ca32-03931ce924fb"
      },
      "source": [
        "planet = 'Pluto'\n",
        "pluto_mass = 1.303 * 10**22\n",
        "earth_mass = 5.9722 * 10**24\n",
        "population = 52910390\n",
        "print(f\"{planet}, weighs about {pluto_mass :.1e} kilograms ({pluto_mass / earth_mass :.3%} of Earth's mass). It is home to {population :,} Plutonians.\")"
      ],
      "execution_count": 22,
      "outputs": [
        {
          "output_type": "stream",
          "name": "stdout",
          "text": [
            "Pluto, weighs about 1.3e+22 kilograms (0.218% of Earth's mass). It is home to 52,910,390 Plutonians.\n"
          ]
        }
      ]
    },
    {
      "cell_type": "code",
      "metadata": {
        "id": "niMc9wUIyMFa"
      },
      "source": [
        ""
      ],
      "execution_count": null,
      "outputs": []
    },
    {
      "cell_type": "markdown",
      "metadata": {
        "id": "fvIePoIvxjnB"
      },
      "source": [
        ""
      ]
    },
    {
      "cell_type": "markdown",
      "metadata": {
        "id": "tNbqcywHj0_W"
      },
      "source": [
        "**Индексация и срезы**\n",
        "\n",
        "Индексация – доступ к элементам объекта по их порядковому номеру в нем. Индексация элементов начинается с нуля при прямой индексаций и с -1 (последний элемент) при обратной.\n",
        "\n",
        "Получить значение элемента по индексу можно при помощи `[ ]`,\n",
        "например: `my_string[0]` и `my_string[-6]` (при обратной индексации).\n",
        "\n",
        "Можно “доставать” из строки несколько элементов при помощи “срезов” (slicing). Для указания интервала среза используется `:`\n",
        "\n",
        "`some_string[START:STOP:STEP]` - берёт срез от номера `START`, до `STOP` не включая его, с шагом `STEP`. По умолчанию `START` = 0, `STOP` = длина объекта, `STEP` = 1. Какие-либо (а возможно, и все) параметры могут быть опущены."
      ]
    },
    {
      "cell_type": "code",
      "metadata": {
        "id": "Nt-KH_YxwPDs"
      },
      "source": [
        "my_string = 'Hello World'"
      ],
      "execution_count": 16,
      "outputs": []
    },
    {
      "cell_type": "code",
      "metadata": {
        "id": "8rrcmScewPDt"
      },
      "source": [
        "print(my_string[0])"
      ],
      "execution_count": null,
      "outputs": []
    },
    {
      "cell_type": "code",
      "metadata": {
        "id": "wxIOU3U1wPDt"
      },
      "source": [
        "print(my_string[100])"
      ],
      "execution_count": null,
      "outputs": []
    },
    {
      "cell_type": "code",
      "metadata": {
        "id": "S-06jhQmwPDt"
      },
      "source": [
        "print(my_string[-5])"
      ],
      "execution_count": null,
      "outputs": []
    },
    {
      "cell_type": "code",
      "metadata": {
        "id": "pKByS2_VwPDt"
      },
      "source": [
        "print(my_string[3:8])"
      ],
      "execution_count": null,
      "outputs": []
    },
    {
      "cell_type": "code",
      "metadata": {
        "id": "jcYD5ZlmwpyS"
      },
      "source": [
        "print(my_string[1:8:2])"
      ],
      "execution_count": null,
      "outputs": []
    },
    {
      "cell_type": "code",
      "metadata": {
        "id": "xKkIm9aiwwT8"
      },
      "source": [
        "print(my_string[::-1])"
      ],
      "execution_count": null,
      "outputs": []
    },
    {
      "cell_type": "markdown",
      "metadata": {
        "id": "l39r5h_rCSJe"
      },
      "source": [
        "Т.к. строки являются неимзеняемым типом, то нельзя перезаписать какой-то отдельный символ или срез в строке."
      ]
    },
    {
      "cell_type": "code",
      "metadata": {
        "id": "1e1ncJObCSJf",
        "scrolled": true
      },
      "source": [
        "my_string[-1] = '!'"
      ],
      "execution_count": null,
      "outputs": []
    },
    {
      "cell_type": "markdown",
      "metadata": {
        "id": "SFgwtcgtwPDu"
      },
      "source": [
        "**Практика**.\n",
        "Дана переменная, в которой хранится текст из четного числа символов. Напишите код, который выводит на экран две средних буквы этой строки\n",
        "\n",
        "Примеры работы программы:\n",
        "\n",
        "`word = 'test'`  \n",
        "Результат:  \n",
        "`es`"
      ]
    },
    {
      "cell_type": "code",
      "metadata": {
        "id": "3P6QEr_wZY28",
        "colab": {
          "base_uri": "https://localhost:8080/"
        },
        "outputId": "4b185680-4f32-4a57-a599-6f91c1bdb5b7"
      },
      "source": [
        "word = 'test34'\n",
        "n = int(len(word)/2)\n",
        "print(word[n-1:n+1])"
      ],
      "execution_count": 21,
      "outputs": [
        {
          "output_type": "stream",
          "name": "stdout",
          "text": [
            "st\n"
          ]
        }
      ]
    },
    {
      "cell_type": "code",
      "metadata": {
        "id": "qMui6ECXwPDu"
      },
      "source": [
        ""
      ],
      "execution_count": null,
      "outputs": []
    },
    {
      "cell_type": "markdown",
      "metadata": {
        "id": "nLrBxG2UuXqQ"
      },
      "source": [
        "## Рекомендуемые материалы\n",
        "\n",
        "1. Тренажеры:\n",
        "  - hackerrank.com\n",
        "  - checkio.org\n",
        "  - leetcode.com\n",
        "  - codewars.com\n",
        "  - luxcity.geecko.com\n",
        "\n",
        "2. Литература:\n",
        " - А Byte of Python [англ. версия](https://python.swaroopch.com/), [рус. перевод](https://wombat.org.ua/AByteOfPython/AByteofPythonRussian-2.02.pdf). Легально, бесплатно, без СМС и регистрации.\n",
        " - Адитья Бхаргава, Грокаем алгоритмы. [На бумаге](https://bit.ly/3c4Drq3), [Электронная](https://bit.ly/3IWxklj). Бесплатно сами.\n",
        "\n"
      ]
    },
    {
      "cell_type": "markdown",
      "metadata": {
        "id": "n0u7ea-9TC6U"
      },
      "source": [
        "**Установка  и настройка Anaconda**\n",
        "\n",
        "\n",
        "https://www.anaconda.com/distribution/\n",
        "\n",
        "1. Запустите скачанный инсталлятор. В первом появившемся окне необходимо нажать “Next”.\n",
        "2. Далее следует принять лицензионное соглашение.\n",
        "3. Выберете одну из опций установки:\n",
        "\n",
        "    * Just Me – только для пользователя, запустившего установку;\n",
        "    * All Users – для всех пользователей. (для тех, кто планирует выйти за пределы анализа данных)\n",
        "    \n",
        "4. Укажите путь, по которому будет установлена Anaconda.\n",
        "5. Укажите дополнительные опции:\n",
        "\n",
        "    * Add Anaconda to the system PATH environment variable – добавить Anaconda в системную переменную PATH\n",
        "    * Register Anaconda as the system Python  – использовать Anaconda, как интерпретатор Python по умолчанию.\n",
        "\n",
        "6. Для начала установки нажмите на кнопку “Install”\n",
        "7. После установки программы запустите Jupyter Notebook  (наберите его в поиске)\n",
        "8. В результате запустится веб-сервер и среда разработки в браузере.\n",
        "9. Создайте ноутбук для разработки, для этого нажмите на кнопку New (в правом углу окна) и в появившемся списке выберете Python.\n"
      ]
    },
    {
      "cell_type": "markdown",
      "metadata": {
        "id": "7EGuFGDPuVom"
      },
      "source": [
        "# Спасибо за внимание! Буду рад ответить на ваши вопросы\n",
        "Форма ОС: https://forms.gle/y8xaFwJqtbFSjUeG8"
      ]
    }
  ]
}